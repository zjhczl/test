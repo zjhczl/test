{
 "cells": [
  {
   "cell_type": "markdown",
   "id": "965d8c16-c407-492d-853b-e0a0fc2da78f",
   "metadata": {},
   "source": [
    "# test jupyter"
   ]
  },
  {
   "cell_type": "code",
   "execution_count": 4,
   "id": "0d26b51f-8cea-4264-9031-8b8592010c21",
   "metadata": {},
   "outputs": [
    {
     "name": "stderr",
     "output_type": "stream",
     "text": [
      " cd: command not found\n",
      "\r"
     ]
    }
   ],
   "source": [
    "! cd .."
   ]
  },
  {
   "cell_type": "code",
   "execution_count": null,
   "id": "518e111a-85c1-4060-b932-a4a60e158631",
   "metadata": {},
   "outputs": [],
   "source": []
  }
 ],
 "metadata": {
  "kernelspec": {
   "display_name": "Python 3 (ipykernel)",
   "language": "python",
   "name": "python3"
  },
  "language_info": {
   "codemirror_mode": {
    "name": "ipython",
    "version": 3
   },
   "file_extension": ".py",
   "mimetype": "text/x-python",
   "name": "python",
   "nbconvert_exporter": "python",
   "pygments_lexer": "ipython3",
   "version": "3.11.0"
  }
 },
 "nbformat": 4,
 "nbformat_minor": 5
}
